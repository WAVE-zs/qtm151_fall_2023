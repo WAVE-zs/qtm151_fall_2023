{
 "cells": [
  {
   "cell_type": "code",
   "execution_count": 71,
   "metadata": {},
   "outputs": [],
   "source": [
    "import pandas as pd\n",
    "import matplotlib.pyplot as plt"
   ]
  },
  {
   "cell_type": "code",
   "execution_count": 72,
   "metadata": {},
   "outputs": [],
   "source": [
    "tracks=pd.read_csv(\"Formula1-DatasetFull/raw_data/races.csv\")\n",
    "qual=pd.read_csv(\"Formula1-DatasetFull/raw_data/qualifying.csv\")\n",
    "teams=pd.read_csv(\"Formula1-DatasetFull/raw_data/constructors.csv\")"
   ]
  },
  {
   "cell_type": "code",
   "execution_count": 73,
   "metadata": {},
   "outputs": [],
   "source": [
    "merge1=qual.merge(tracks[[\"raceId\",\"year\",\"name\"]],left_on=\"raceId\",right_on=\"raceId\")"
   ]
  },
  {
   "cell_type": "code",
   "execution_count": 74,
   "metadata": {},
   "outputs": [],
   "source": [
    "merge2=merge1.merge(teams[[\"name\",\"constructorId\"]],left_on=\"constructorId\",right_on=\"constructorId\")"
   ]
  },
  {
   "cell_type": "code",
   "execution_count": 75,
   "metadata": {},
   "outputs": [],
   "source": [
    "merge2=merge2.rename(columns={\"name_x\":\"Race name\",\"name_y\":\"team_name\"})"
   ]
  },
  {
   "cell_type": "code",
   "execution_count": 76,
   "metadata": {},
   "outputs": [],
   "source": [
    "merge2=merge2[[\"team_name\",\"Race name\",\"q1\",\"year\"]]"
   ]
  },
  {
   "cell_type": "code",
   "execution_count": 77,
   "metadata": {},
   "outputs": [],
   "source": [
    "good_years=merge2[merge2[\"year\"].isin([2021,2022])]"
   ]
  },
  {
   "cell_type": "code",
   "execution_count": 78,
   "metadata": {},
   "outputs": [],
   "source": [
    "good_years.loc[good_years[\"Race name\"]==\"São Paulo Grand Prix\",\"Race name\"]=\"Brazilian Grand Prix\""
   ]
  },
  {
   "cell_type": "code",
   "execution_count": 79,
   "metadata": {},
   "outputs": [],
   "source": [
    "numtimes=sum(good_years[\"Race name\"].value_counts()==40)\n",
    "index=(good_years[\"Race name\"].value_counts().index[:16])\n",
    "good_years_filtered=good_years[good_years[\"Race name\"].isin(index)]"
   ]
  },
  {
   "cell_type": "code",
   "execution_count": 80,
   "metadata": {},
   "outputs": [],
   "source": [
    "missing_data=good_years_filtered[good_years_filtered['q1'].str.contains(r'\\\\N')][\"Race name\"].values"
   ]
  },
  {
   "cell_type": "code",
   "execution_count": 81,
   "metadata": {},
   "outputs": [],
   "source": [
    "final_data=good_years_filtered[~good_years_filtered[\"Race name\"].isin(missing_data)]"
   ]
  },
  {
   "cell_type": "code",
   "execution_count": 82,
   "metadata": {},
   "outputs": [
    {
     "name": "stderr",
     "output_type": "stream",
     "text": [
      "/var/folders/5y/l2g9hszs42v81fsm6b_z9d2h0000gn/T/ipykernel_65873/3844006348.py:1: SettingWithCopyWarning: \n",
      "A value is trying to be set on a copy of a slice from a DataFrame.\n",
      "Try using .loc[row_indexer,col_indexer] = value instead\n",
      "\n",
      "See the caveats in the documentation: https://pandas.pydata.org/pandas-docs/stable/user_guide/indexing.html#returning-a-view-versus-a-copy\n",
      "  final_data[\"min:sec\"]=final_data[\"q1\"].str.split(\".\").str[0]\n"
     ]
    }
   ],
   "source": [
    "final_data[\"min:sec\"]=final_data[\"q1\"].str.split(\".\").str[0]"
   ]
  },
  {
   "cell_type": "code",
   "execution_count": 83,
   "metadata": {},
   "outputs": [
    {
     "name": "stderr",
     "output_type": "stream",
     "text": [
      "/var/folders/5y/l2g9hszs42v81fsm6b_z9d2h0000gn/T/ipykernel_65873/3275925861.py:2: SettingWithCopyWarning: \n",
      "A value is trying to be set on a copy of a slice from a DataFrame.\n",
      "Try using .loc[row_indexer,col_indexer] = value instead\n",
      "\n",
      "See the caveats in the documentation: https://pandas.pydata.org/pandas-docs/stable/user_guide/indexing.html#returning-a-view-versus-a-copy\n",
      "  final_data[\"seconds\"]=pd.to_numeric(temp.str[0])*60+pd.to_numeric(temp.str[2:])\n"
     ]
    }
   ],
   "source": [
    "temp=final_data[\"min:sec\"]\n",
    "final_data[\"seconds\"]=pd.to_numeric(temp.str[0])*60+pd.to_numeric(temp.str[2:])"
   ]
  },
  {
   "cell_type": "markdown",
   "metadata": {},
   "source": [
    "A dataset that included the year, the team, the driver, the lap time.\n",
    "\n"
   ]
  },
  {
   "cell_type": "code",
   "execution_count": 84,
   "metadata": {},
   "outputs": [],
   "source": [
    "def function(team):\n",
    "    mean_old=team[team[\"year\"]==2021][\"seconds\"].mean()\n",
    "    mean_new=team[team[\"year\"]==2022][\"seconds\"].mean()\n",
    "    return mean_new-mean_old"
   ]
  },
  {
   "cell_type": "code",
   "execution_count": 85,
   "metadata": {},
   "outputs": [],
   "source": [
    "grouped_data=final_data.groupby([\"team_name\"]).apply(function).reset_index().rename(columns={0:\"Time_diff_seconds\"}).sort_values(by=\"Time_diff_seconds\")"
   ]
  },
  {
   "cell_type": "code",
   "execution_count": 88,
   "metadata": {},
   "outputs": [
    {
     "data": {
      "text/html": [
       "<div>\n",
       "<style scoped>\n",
       "    .dataframe tbody tr th:only-of-type {\n",
       "        vertical-align: middle;\n",
       "    }\n",
       "\n",
       "    .dataframe tbody tr th {\n",
       "        vertical-align: top;\n",
       "    }\n",
       "\n",
       "    .dataframe thead th {\n",
       "        text-align: right;\n",
       "    }\n",
       "</style>\n",
       "<table border=\"1\" class=\"dataframe\">\n",
       "  <thead>\n",
       "    <tr style=\"text-align: right;\">\n",
       "      <th></th>\n",
       "      <th>team_name</th>\n",
       "      <th>Time_diff_seconds</th>\n",
       "    </tr>\n",
       "  </thead>\n",
       "  <tbody>\n",
       "    <tr>\n",
       "      <th>5</th>\n",
       "      <td>Haas F1 Team</td>\n",
       "      <td>0.454545</td>\n",
       "    </tr>\n",
       "    <tr>\n",
       "      <th>4</th>\n",
       "      <td>Ferrari</td>\n",
       "      <td>1.045455</td>\n",
       "    </tr>\n",
       "    <tr>\n",
       "      <th>0</th>\n",
       "      <td>Alfa Romeo</td>\n",
       "      <td>1.090909</td>\n",
       "    </tr>\n",
       "    <tr>\n",
       "      <th>8</th>\n",
       "      <td>Red Bull</td>\n",
       "      <td>1.181818</td>\n",
       "    </tr>\n",
       "    <tr>\n",
       "      <th>2</th>\n",
       "      <td>Alpine F1 Team</td>\n",
       "      <td>1.454545</td>\n",
       "    </tr>\n",
       "    <tr>\n",
       "      <th>3</th>\n",
       "      <td>Aston Martin</td>\n",
       "      <td>1.545455</td>\n",
       "    </tr>\n",
       "    <tr>\n",
       "      <th>1</th>\n",
       "      <td>AlphaTauri</td>\n",
       "      <td>1.727273</td>\n",
       "    </tr>\n",
       "    <tr>\n",
       "      <th>7</th>\n",
       "      <td>Mercedes</td>\n",
       "      <td>1.772727</td>\n",
       "    </tr>\n",
       "    <tr>\n",
       "      <th>6</th>\n",
       "      <td>McLaren</td>\n",
       "      <td>1.909091</td>\n",
       "    </tr>\n",
       "    <tr>\n",
       "      <th>9</th>\n",
       "      <td>Williams</td>\n",
       "      <td>1.909091</td>\n",
       "    </tr>\n",
       "  </tbody>\n",
       "</table>\n",
       "</div>"
      ],
      "text/plain": [
       "        team_name  Time_diff_seconds\n",
       "5    Haas F1 Team           0.454545\n",
       "4         Ferrari           1.045455\n",
       "0      Alfa Romeo           1.090909\n",
       "8        Red Bull           1.181818\n",
       "2  Alpine F1 Team           1.454545\n",
       "3    Aston Martin           1.545455\n",
       "1      AlphaTauri           1.727273\n",
       "7        Mercedes           1.772727\n",
       "6         McLaren           1.909091\n",
       "9        Williams           1.909091"
      ]
     },
     "execution_count": 88,
     "metadata": {},
     "output_type": "execute_result"
    }
   ],
   "source": [
    "grouped_data"
   ]
  },
  {
   "cell_type": "code",
   "execution_count": 87,
   "metadata": {},
   "outputs": [
    {
     "data": {
      "image/png": "[encoded data removed]",
      "text/plain": [
       "<Figure size 640x480 with 1 Axes>"
      ]
     },
     "metadata": {},
     "output_type": "display_data"
    }
   ],
   "source": [
    "\n",
    "# Assuming group_times is your DataFrame with 'team_name' and 'seconds' columns\n",
    "plt.barh(grouped_data[\"team_name\"], grouped_data[\"Time_diff_seconds\"])\n",
    "\n",
    "plt.ylabel('Teams')\n",
    "plt.xlabel('Seconds')\n",
    "plt.xticks(rotation=45)  # Rotating the x-axis labels for better readability\n",
    "plt.title(\"Affect of regulation on different teams\")\n",
    "\n",
    "plt.show()"
   ]
  }
 ],
 "metadata": {
  "kernelspec": {
   "display_name": "qtmm151",
   "language": "python",
   "name": "python3"
  },
  "language_info": {
   "codemirror_mode": {
    "name": "ipython",
    "version": 3
   },
   "file_extension": ".py",
   "mimetype": "text/x-python",
   "name": "python",
   "nbconvert_exporter": "python",
   "pygments_lexer": "ipython3",
   "version": "3.11.4"
  },
  "orig_nbformat": 4
 },
 "nbformat": 4,
 "nbformat_minor": 2
}
