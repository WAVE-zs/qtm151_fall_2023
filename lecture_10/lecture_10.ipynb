{
 "cells": [
  {
   "attachments": {},
   "cell_type": "markdown",
   "metadata": {},
   "source": [
    "# <span style=\"color:darkblue\"> Lecture 10: Application 1 - Linear Regression </span>\n",
    "\n",
    "<font size = \"5\">\n",
    "\n",
    "We will fit statistical models to data\n",
    "\n",
    "- I will give an intro with minimal stats background\n",
    "- See the optional lecture file for advanced users\n",
    "\n",
    "The primary goal is to practice previous commands"
   ]
  },
  {
   "attachments": {},
   "cell_type": "markdown",
   "metadata": {},
   "source": [
    "# <span style=\"color:darkblue\"> I. Import Libraries </span>\n"
   ]
  },
  {
   "cell_type": "code",
   "execution_count": 1,
   "metadata": {},
   "outputs": [],
   "source": [
    "# The \"pandas\" library is used for processing datasets\n",
    "# The \"numpy\" is for numeric observations and random numbers\n",
    "# The \"matplotlib.pyplot\" library is for creating graphs\n",
    "\n",
    "import pandas as pd\n",
    "import numpy as np\n",
    "import matplotlib.pyplot as plt\n"
   ]
  },
  {
   "attachments": {},
   "cell_type": "markdown",
   "metadata": {},
   "source": [
    "<font size = \"5\">\n",
    "\n",
    "Install the \"statsmodels\" library\n",
    "\n",
    "```conda activate qtm151```\n",
    "\n",
    "```conda install statsmodels```"
   ]
  },
  {
   "cell_type": "code",
   "execution_count": 16,
   "metadata": {},
   "outputs": [],
   "source": [
    "# We will \"alias\" two sublibraries in \"statsmodels\"\n",
    "# \"statsmodels.formula.api\" contains functions to estimate models\n",
    "# \"statsmodels.api\" contains general-use statistical options\n",
    "\n",
    "import statsmodels.api as sm\n",
    "import statsmodels.formula.api as smf\n"
   ]
  },
  {
   "attachments": {},
   "cell_type": "markdown",
   "metadata": {},
   "source": [
    "# <span style=\"color:darkblue\"> II. Generate simulated Data </span>\n",
    "\n",
    "<font size = \"5\">\n",
    "\n",
    "Create an empty dataset"
   ]
  },
  {
   "cell_type": "code",
   "execution_count": 30,
   "metadata": {},
   "outputs": [],
   "source": [
    "dataset = pd.DataFrame()"
   ]
  },
  {
   "attachments": {},
   "cell_type": "markdown",
   "metadata": {},
   "source": [
    "<font size = \"5\">\n",
    "\n",
    "Create two random variables of size ($n = 50$)"
   ]
  },
  {
   "cell_type": "code",
   "execution_count": 31,
   "metadata": {},
   "outputs": [],
   "source": [
    "n = 50\n",
    "np.random.seed(42)\n",
    "dataset[\"x\"] = np.random.normal(loc = 0,scale = 1, size = n)\n",
    "dataset[\"e\"] = np.random.normal(loc = 0,scale = 1, size = n)"
   ]
  },
  {
   "attachments": {},
   "cell_type": "markdown",
   "metadata": {},
   "source": [
    "<font size = \"5\">\n",
    "\n",
    "Create data from the linear model\n",
    "\n",
    "$ y = b_0 + b_1 x + e, \\qquad b_0 = 1, b_1 = 2.$"
   ]
  },
  {
   "cell_type": "code",
   "execution_count": 32,
   "metadata": {},
   "outputs": [],
   "source": [
    "# The number b0 is known as the \"intercept\"\n",
    "# The number b1 is known as the \"slope\"\n",
    "\n",
    "b0 = 1\n",
    "b1 = 2\n",
    "\n",
    "# We can compute formulas directly over dataset columns\n",
    "dataset[\"y\"] = b0 + b1 * dataset[\"x\"] + dataset[\"e\"]"
   ]
  },
  {
   "attachments": {},
   "cell_type": "markdown",
   "metadata": {},
   "source": [
    "<font size = \"5\">\n",
    "\n",
    "Compute the theoretically best fit line\n",
    "\n",
    "$ p = b_0 + b_1 x$"
   ]
  },
  {
   "cell_type": "code",
   "execution_count": 43,
   "metadata": {},
   "outputs": [],
   "source": [
    "dataset[\"p\"] = b0 + b1*dataset[\"x\"]"
   ]
  },
  {
   "attachments": {},
   "cell_type": "markdown",
   "metadata": {},
   "source": [
    "<font size = \"5\">\n",
    "\n",
    "Plot the data"
   ]
  },
  {
   "cell_type": "code",
   "execution_count": 44,
   "metadata": {},
   "outputs": [
    {
     "data": {
      "image/png": "[encoded data removed]",
      "text/plain": [
       "<Figure size 640x480 with 1 Axes>"
      ]
     },
     "metadata": {},
     "output_type": "display_data"
    }
   ],
   "source": [
    "plt.scatter(x = dataset[\"x\"], y = dataset[\"y\"])\n",
    "plt.plot(dataset[\"x\"],dataset[\"p\"], color = 'green')\n",
    "\n",
    "plt.xlabel(\"X Variable\")\n",
    "plt.ylabel(\"Y Variable\")\n",
    "plt.legend(labels = [\"Data points\", \"Best fit line\"])\n",
    "plt.show()\n"
   ]
  },
  {
   "attachments": {},
   "cell_type": "markdown",
   "metadata": {},
   "source": [
    "<font size = \"5\" >\n",
    "\n",
    "Try it yourself\n",
    "\n",
    "- Create a new dataset called $\\quad$```subset_above2``` \n",
    "- Subset records with $y \\ge 2$ using $\\quad$```.query()```\n",
    "- Count the original rows $\\quad$ ```len(dataset)```\n",
    "- Count the subsetted rows $\\quad$ ```len(subset_above2)```\n",
    "- Compute the proportion of subsetted observations\n"
   ]
  },
  {
   "cell_type": "code",
   "execution_count": 54,
   "metadata": {},
   "outputs": [
    {
     "name": "stdout",
     "output_type": "stream",
     "text": [
      "50\n",
      "15\n",
      "0.3\n"
     ]
    }
   ],
   "source": [
    "# Write your own code here\n",
    "subset_above2 = dataset.query('y>=2')\n",
    "print(len(dataset))\n",
    "print(len(subset_above2))\n",
    "print(len(subset_above2)/len(dataset))"
   ]
  },
  {
   "attachments": {},
   "cell_type": "markdown",
   "metadata": {},
   "source": [
    "<font size = \"5\">\n",
    "\n",
    "Try it yourself!\n",
    "\n",
    "- Store the sample mean of $y$ as $\\quad$ ```ybar```\n",
    "- Compute the standard deviation of $y$ $\\quad$ ```stdv_sample```\n",
    "- Use ```.query()``` to subset observations that satisfy\n",
    "\n",
    "$ \\qquad abs\\left(y - ybar \\right) \\le stdv\\_sample $\n",
    "\n",
    "$\\quad$ HINT: Use ```.mean()```,$\\text{ }$ ```.std()``` <br>\n",
    "$\\quad$ HINT: Use the globals  $\\ $ ```@xbar```,$\\text{ }$ ```@stdv_sample```"
   ]
  },
  {
   "cell_type": "code",
   "execution_count": 62,
   "metadata": {},
   "outputs": [
    {
     "data": {
      "text/html": [
       "<div>\n",
       "<style scoped>\n",
       "    .dataframe tbody tr th:only-of-type {\n",
       "        vertical-align: middle;\n",
       "    }\n",
       "\n",
       "    .dataframe tbody tr th {\n",
       "        vertical-align: top;\n",
       "    }\n",
       "\n",
       "    .dataframe thead th {\n",
       "        text-align: right;\n",
       "    }\n",
       "</style>\n",
       "<table border=\"1\" class=\"dataframe\">\n",
       "  <thead>\n",
       "    <tr style=\"text-align: right;\">\n",
       "      <th></th>\n",
       "      <th>x</th>\n",
       "      <th>e</th>\n",
       "      <th>y</th>\n",
       "      <th>p</th>\n",
       "      <th>p_estimated</th>\n",
       "    </tr>\n",
       "  </thead>\n",
       "  <tbody>\n",
       "    <tr>\n",
       "      <th>1</th>\n",
       "      <td>-0.138264</td>\n",
       "      <td>-0.385082</td>\n",
       "      <td>0.338389</td>\n",
       "      <td>0.723471</td>\n",
       "      <td>0.750241</td>\n",
       "    </tr>\n",
       "    <tr>\n",
       "      <th>2</th>\n",
       "      <td>0.647689</td>\n",
       "      <td>-0.676922</td>\n",
       "      <td>1.618455</td>\n",
       "      <td>2.295377</td>\n",
       "      <td>2.403160</td>\n",
       "    </tr>\n",
       "    <tr>\n",
       "      <th>4</th>\n",
       "      <td>-0.234153</td>\n",
       "      <td>1.031000</td>\n",
       "      <td>1.562693</td>\n",
       "      <td>0.531693</td>\n",
       "      <td>0.548579</td>\n",
       "    </tr>\n",
       "    <tr>\n",
       "      <th>5</th>\n",
       "      <td>-0.234137</td>\n",
       "      <td>0.931280</td>\n",
       "      <td>1.463006</td>\n",
       "      <td>0.531726</td>\n",
       "      <td>0.548614</td>\n",
       "    </tr>\n",
       "    <tr>\n",
       "      <th>8</th>\n",
       "      <td>-0.469474</td>\n",
       "      <td>0.331263</td>\n",
       "      <td>0.392315</td>\n",
       "      <td>0.061051</td>\n",
       "      <td>0.053682</td>\n",
       "    </tr>\n",
       "    <tr>\n",
       "      <th>10</th>\n",
       "      <td>-0.463418</td>\n",
       "      <td>-0.479174</td>\n",
       "      <td>-0.406010</td>\n",
       "      <td>0.073165</td>\n",
       "      <td>0.066419</td>\n",
       "    </tr>\n",
       "    <tr>\n",
       "      <th>11</th>\n",
       "      <td>-0.465730</td>\n",
       "      <td>-0.185659</td>\n",
       "      <td>-0.117118</td>\n",
       "      <td>0.068540</td>\n",
       "      <td>0.061557</td>\n",
       "    </tr>\n",
       "    <tr>\n",
       "      <th>12</th>\n",
       "      <td>0.241962</td>\n",
       "      <td>-1.106335</td>\n",
       "      <td>0.377590</td>\n",
       "      <td>1.483925</td>\n",
       "      <td>1.549887</td>\n",
       "    </tr>\n",
       "    <tr>\n",
       "      <th>14</th>\n",
       "      <td>-1.724918</td>\n",
       "      <td>0.812526</td>\n",
       "      <td>-1.637310</td>\n",
       "      <td>-2.449836</td>\n",
       "      <td>-2.586611</td>\n",
       "    </tr>\n",
       "    <tr>\n",
       "      <th>15</th>\n",
       "      <td>-0.562288</td>\n",
       "      <td>1.356240</td>\n",
       "      <td>1.231665</td>\n",
       "      <td>-0.124575</td>\n",
       "      <td>-0.141511</td>\n",
       "    </tr>\n",
       "    <tr>\n",
       "      <th>16</th>\n",
       "      <td>-1.012831</td>\n",
       "      <td>-0.072010</td>\n",
       "      <td>-1.097672</td>\n",
       "      <td>-1.025662</td>\n",
       "      <td>-1.089039</td>\n",
       "    </tr>\n",
       "    <tr>\n",
       "      <th>18</th>\n",
       "      <td>-0.908024</td>\n",
       "      <td>0.361636</td>\n",
       "      <td>-0.454412</td>\n",
       "      <td>-0.816048</td>\n",
       "      <td>-0.868622</td>\n",
       "    </tr>\n",
       "    <tr>\n",
       "      <th>19</th>\n",
       "      <td>-1.412304</td>\n",
       "      <td>-0.645120</td>\n",
       "      <td>-2.469727</td>\n",
       "      <td>-1.824607</td>\n",
       "      <td>-1.929160</td>\n",
       "    </tr>\n",
       "    <tr>\n",
       "      <th>21</th>\n",
       "      <td>-0.225776</td>\n",
       "      <td>1.538037</td>\n",
       "      <td>2.086484</td>\n",
       "      <td>0.548447</td>\n",
       "      <td>0.566197</td>\n",
       "    </tr>\n",
       "    <tr>\n",
       "      <th>22</th>\n",
       "      <td>0.067528</td>\n",
       "      <td>-0.035826</td>\n",
       "      <td>1.099230</td>\n",
       "      <td>1.135056</td>\n",
       "      <td>1.183039</td>\n",
       "    </tr>\n",
       "    <tr>\n",
       "      <th>23</th>\n",
       "      <td>-1.424748</td>\n",
       "      <td>1.564644</td>\n",
       "      <td>-0.284853</td>\n",
       "      <td>-1.849496</td>\n",
       "      <td>-1.955331</td>\n",
       "    </tr>\n",
       "    <tr>\n",
       "      <th>25</th>\n",
       "      <td>0.110923</td>\n",
       "      <td>0.821903</td>\n",
       "      <td>2.043748</td>\n",
       "      <td>1.221845</td>\n",
       "      <td>1.274300</td>\n",
       "    </tr>\n",
       "    <tr>\n",
       "      <th>26</th>\n",
       "      <td>-1.150994</td>\n",
       "      <td>0.087047</td>\n",
       "      <td>-1.214940</td>\n",
       "      <td>-1.301987</td>\n",
       "      <td>-1.379605</td>\n",
       "    </tr>\n",
       "    <tr>\n",
       "      <th>27</th>\n",
       "      <td>0.375698</td>\n",
       "      <td>-0.299007</td>\n",
       "      <td>1.452389</td>\n",
       "      <td>1.751396</td>\n",
       "      <td>1.831143</td>\n",
       "    </tr>\n",
       "    <tr>\n",
       "      <th>28</th>\n",
       "      <td>-0.600639</td>\n",
       "      <td>0.091761</td>\n",
       "      <td>-0.109517</td>\n",
       "      <td>-0.201277</td>\n",
       "      <td>-0.222167</td>\n",
       "    </tr>\n",
       "    <tr>\n",
       "      <th>29</th>\n",
       "      <td>-0.291694</td>\n",
       "      <td>-1.987569</td>\n",
       "      <td>-1.570956</td>\n",
       "      <td>0.416613</td>\n",
       "      <td>0.427568</td>\n",
       "    </tr>\n",
       "    <tr>\n",
       "      <th>30</th>\n",
       "      <td>-0.601707</td>\n",
       "      <td>-0.219672</td>\n",
       "      <td>-0.423085</td>\n",
       "      <td>-0.203413</td>\n",
       "      <td>-0.224413</td>\n",
       "    </tr>\n",
       "    <tr>\n",
       "      <th>32</th>\n",
       "      <td>-0.013497</td>\n",
       "      <td>1.477894</td>\n",
       "      <td>2.450900</td>\n",
       "      <td>0.973006</td>\n",
       "      <td>1.012636</td>\n",
       "    </tr>\n",
       "    <tr>\n",
       "      <th>33</th>\n",
       "      <td>-1.057711</td>\n",
       "      <td>-0.518270</td>\n",
       "      <td>-1.633692</td>\n",
       "      <td>-1.115422</td>\n",
       "      <td>-1.183424</td>\n",
       "    </tr>\n",
       "    <tr>\n",
       "      <th>34</th>\n",
       "      <td>0.822545</td>\n",
       "      <td>-0.808494</td>\n",
       "      <td>1.836596</td>\n",
       "      <td>2.645090</td>\n",
       "      <td>2.770896</td>\n",
       "    </tr>\n",
       "    <tr>\n",
       "      <th>35</th>\n",
       "      <td>-1.220844</td>\n",
       "      <td>-0.501757</td>\n",
       "      <td>-1.943444</td>\n",
       "      <td>-1.441687</td>\n",
       "      <td>-1.526505</td>\n",
       "    </tr>\n",
       "    <tr>\n",
       "      <th>36</th>\n",
       "      <td>0.208864</td>\n",
       "      <td>0.915402</td>\n",
       "      <td>2.333129</td>\n",
       "      <td>1.417727</td>\n",
       "      <td>1.480278</td>\n",
       "    </tr>\n",
       "    <tr>\n",
       "      <th>37</th>\n",
       "      <td>-1.959670</td>\n",
       "      <td>0.328751</td>\n",
       "      <td>-2.590589</td>\n",
       "      <td>-2.919340</td>\n",
       "      <td>-3.080313</td>\n",
       "    </tr>\n",
       "    <tr>\n",
       "      <th>38</th>\n",
       "      <td>-1.328186</td>\n",
       "      <td>-0.529760</td>\n",
       "      <td>-2.186132</td>\n",
       "      <td>-1.656372</td>\n",
       "      <td>-1.752254</td>\n",
       "    </tr>\n",
       "    <tr>\n",
       "      <th>39</th>\n",
       "      <td>0.196861</td>\n",
       "      <td>0.513267</td>\n",
       "      <td>1.906990</td>\n",
       "      <td>1.393722</td>\n",
       "      <td>1.455036</td>\n",
       "    </tr>\n",
       "    <tr>\n",
       "      <th>41</th>\n",
       "      <td>0.171368</td>\n",
       "      <td>0.968645</td>\n",
       "      <td>2.311382</td>\n",
       "      <td>1.342737</td>\n",
       "      <td>1.401422</td>\n",
       "    </tr>\n",
       "    <tr>\n",
       "      <th>42</th>\n",
       "      <td>-0.115648</td>\n",
       "      <td>-0.702053</td>\n",
       "      <td>0.066650</td>\n",
       "      <td>0.768703</td>\n",
       "      <td>0.797805</td>\n",
       "    </tr>\n",
       "    <tr>\n",
       "      <th>43</th>\n",
       "      <td>-0.301104</td>\n",
       "      <td>-0.327662</td>\n",
       "      <td>0.070130</td>\n",
       "      <td>0.397793</td>\n",
       "      <td>0.407778</td>\n",
       "    </tr>\n",
       "    <tr>\n",
       "      <th>44</th>\n",
       "      <td>-1.478522</td>\n",
       "      <td>-0.392108</td>\n",
       "      <td>-2.349152</td>\n",
       "      <td>-1.957044</td>\n",
       "      <td>-2.068422</td>\n",
       "    </tr>\n",
       "    <tr>\n",
       "      <th>45</th>\n",
       "      <td>-0.719844</td>\n",
       "      <td>-1.463515</td>\n",
       "      <td>-1.903203</td>\n",
       "      <td>-0.439688</td>\n",
       "      <td>-0.472865</td>\n",
       "    </tr>\n",
       "    <tr>\n",
       "      <th>46</th>\n",
       "      <td>-0.460639</td>\n",
       "      <td>0.296120</td>\n",
       "      <td>0.374843</td>\n",
       "      <td>0.078722</td>\n",
       "      <td>0.072264</td>\n",
       "    </tr>\n",
       "    <tr>\n",
       "      <th>48</th>\n",
       "      <td>0.343618</td>\n",
       "      <td>0.005113</td>\n",
       "      <td>1.692350</td>\n",
       "      <td>1.687237</td>\n",
       "      <td>1.763677</td>\n",
       "    </tr>\n",
       "    <tr>\n",
       "      <th>49</th>\n",
       "      <td>-1.763040</td>\n",
       "      <td>-0.234587</td>\n",
       "      <td>-2.760667</td>\n",
       "      <td>-2.526080</td>\n",
       "      <td>-2.666785</td>\n",
       "    </tr>\n",
       "  </tbody>\n",
       "</table>\n",
       "</div>"
      ],
      "text/plain": [
       "           x         e         y         p  p_estimated\n",
       "1  -0.138264 -0.385082  0.338389  0.723471     0.750241\n",
       "2   0.647689 -0.676922  1.618455  2.295377     2.403160\n",
       "4  -0.234153  1.031000  1.562693  0.531693     0.548579\n",
       "5  -0.234137  0.931280  1.463006  0.531726     0.548614\n",
       "8  -0.469474  0.331263  0.392315  0.061051     0.053682\n",
       "10 -0.463418 -0.479174 -0.406010  0.073165     0.066419\n",
       "11 -0.465730 -0.185659 -0.117118  0.068540     0.061557\n",
       "12  0.241962 -1.106335  0.377590  1.483925     1.549887\n",
       "14 -1.724918  0.812526 -1.637310 -2.449836    -2.586611\n",
       "15 -0.562288  1.356240  1.231665 -0.124575    -0.141511\n",
       "16 -1.012831 -0.072010 -1.097672 -1.025662    -1.089039\n",
       "18 -0.908024  0.361636 -0.454412 -0.816048    -0.868622\n",
       "19 -1.412304 -0.645120 -2.469727 -1.824607    -1.929160\n",
       "21 -0.225776  1.538037  2.086484  0.548447     0.566197\n",
       "22  0.067528 -0.035826  1.099230  1.135056     1.183039\n",
       "23 -1.424748  1.564644 -0.284853 -1.849496    -1.955331\n",
       "25  0.110923  0.821903  2.043748  1.221845     1.274300\n",
       "26 -1.150994  0.087047 -1.214940 -1.301987    -1.379605\n",
       "27  0.375698 -0.299007  1.452389  1.751396     1.831143\n",
       "28 -0.600639  0.091761 -0.109517 -0.201277    -0.222167\n",
       "29 -0.291694 -1.987569 -1.570956  0.416613     0.427568\n",
       "30 -0.601707 -0.219672 -0.423085 -0.203413    -0.224413\n",
       "32 -0.013497  1.477894  2.450900  0.973006     1.012636\n",
       "33 -1.057711 -0.518270 -1.633692 -1.115422    -1.183424\n",
       "34  0.822545 -0.808494  1.836596  2.645090     2.770896\n",
       "35 -1.220844 -0.501757 -1.943444 -1.441687    -1.526505\n",
       "36  0.208864  0.915402  2.333129  1.417727     1.480278\n",
       "37 -1.959670  0.328751 -2.590589 -2.919340    -3.080313\n",
       "38 -1.328186 -0.529760 -2.186132 -1.656372    -1.752254\n",
       "39  0.196861  0.513267  1.906990  1.393722     1.455036\n",
       "41  0.171368  0.968645  2.311382  1.342737     1.401422\n",
       "42 -0.115648 -0.702053  0.066650  0.768703     0.797805\n",
       "43 -0.301104 -0.327662  0.070130  0.397793     0.407778\n",
       "44 -1.478522 -0.392108 -2.349152 -1.957044    -2.068422\n",
       "45 -0.719844 -1.463515 -1.903203 -0.439688    -0.472865\n",
       "46 -0.460639  0.296120  0.374843  0.078722     0.072264\n",
       "48  0.343618  0.005113  1.692350  1.687237     1.763677\n",
       "49 -1.763040 -0.234587 -2.760667 -2.526080    -2.666785"
      ]
     },
     "execution_count": 62,
     "metadata": {},
     "output_type": "execute_result"
    }
   ],
   "source": [
    "# Note: abs(...) is the absolute value function\n",
    "# Write your own code \n",
    "ybar = dataset['y'].mean()\n",
    "stdv_sample = dataset['y'].std()\n",
    "\n",
    "dataset.query('abs(y-@ybar)<=abs(x-@stdv_sample)')\n"
   ]
  },
  {
   "attachments": {},
   "cell_type": "markdown",
   "metadata": {},
   "source": [
    "# <span style=\"color:darkblue\"> II. Estimate the best fit line</span>\n"
   ]
  },
  {
   "attachments": {},
   "cell_type": "markdown",
   "metadata": {},
   "source": [
    "<font size = \"5\">\n",
    "\n",
    "We have data on $(y,x)$ but we don't know $(b_0,b_1, e)$"
   ]
  },
  {
   "attachments": {},
   "cell_type": "markdown",
   "metadata": {},
   "source": [
    "<font size = \"5\">\n",
    "\n",
    "Let's fit an OLS model\n",
    "\n",
    "- It's a statistical approach to get $(b_0,b_1)$\n",
    "- No need to know how it works but why we want it"
   ]
  },
  {
   "cell_type": "code",
   "execution_count": 75,
   "metadata": {},
   "outputs": [
    {
     "data": {
      "text/html": [
       "<table class=\"simpletable\">\n",
       "<caption>OLS Regression Results</caption>\n",
       "<tr>\n",
       "  <th>Dep. Variable:</th>            <td>y</td>        <th>  R-squared:         </th> <td>   0.836</td>\n",
       "</tr>\n",
       "<tr>\n",
       "  <th>Model:</th>                   <td>OLS</td>       <th>  Adj. R-squared:    </th> <td>   0.833</td>\n",
       "</tr>\n",
       "<tr>\n",
       "  <th>Method:</th>             <td>Least Squares</td>  <th>  F-statistic:       </th> <td>   389.2</td>\n",
       "</tr>\n",
       "<tr>\n",
       "  <th>Date:</th>             <td>Wed, 04 Oct 2023</td> <th>  Prob (F-statistic):</th> <td>1.14e-24</td>\n",
       "</tr>\n",
       "<tr>\n",
       "  <th>Time:</th>                 <td>16:38:03</td>     <th>  Log-Likelihood:    </th> <td> -63.422</td>\n",
       "</tr>\n",
       "<tr>\n",
       "  <th>No. Observations:</th>      <td>    50</td>      <th>  AIC:               </th> <td>   130.8</td>\n",
       "</tr>\n",
       "<tr>\n",
       "  <th>Df Residuals:</th>          <td>    48</td>      <th>  BIC:               </th> <td>   134.7</td>\n",
       "</tr>\n",
       "<tr>\n",
       "  <th>Df Model:</th>              <td>     1</td>      <th>                     </th>     <td> </td>   \n",
       "</tr>\n",
       "<tr>\n",
       "  <th>Covariance Type:</th>         <td>HC1</td>       <th>                     </th>     <td> </td>   \n",
       "</tr>\n",
       "</table>\n",
       "<table class=\"simpletable\">\n",
       "<tr>\n",
       "      <td></td>         <th>coef</th>     <th>std err</th>      <th>z</th>      <th>P>|z|</th>  <th>[0.025</th>    <th>0.975]</th>  \n",
       "</tr>\n",
       "<tr>\n",
       "  <th>Intercept</th> <td>    1.0410</td> <td>    0.122</td> <td>    8.533</td> <td> 0.000</td> <td>    0.802</td> <td>    1.280</td>\n",
       "</tr>\n",
       "<tr>\n",
       "  <th>x</th>         <td>    2.1031</td> <td>    0.107</td> <td>   19.727</td> <td> 0.000</td> <td>    1.894</td> <td>    2.312</td>\n",
       "</tr>\n",
       "</table>\n",
       "<table class=\"simpletable\">\n",
       "<tr>\n",
       "  <th>Omnibus:</th>       <td> 3.643</td> <th>  Durbin-Watson:     </th> <td>   2.225</td>\n",
       "</tr>\n",
       "<tr>\n",
       "  <th>Prob(Omnibus):</th> <td> 0.162</td> <th>  Jarque-Bera (JB):  </th> <td>   2.563</td>\n",
       "</tr>\n",
       "<tr>\n",
       "  <th>Skew:</th>          <td>-0.464</td> <th>  Prob(JB):          </th> <td>   0.278</td>\n",
       "</tr>\n",
       "<tr>\n",
       "  <th>Kurtosis:</th>      <td> 3.608</td> <th>  Cond. No.          </th> <td>    1.28</td>\n",
       "</tr>\n",
       "</table><br/><br/>Notes:<br/>[1] Standard Errors are heteroscedasticity robust (HC1)"
      ],
      "text/latex": [
       "\\begin{center}\n",
       "\\begin{tabular}{lclc}\n",
       "\\toprule\n",
       "\\textbf{Dep. Variable:}    &        y         & \\textbf{  R-squared:         } &     0.836   \\\\\n",
       "\\textbf{Model:}            &       OLS        & \\textbf{  Adj. R-squared:    } &     0.833   \\\\\n",
       "\\textbf{Method:}           &  Least Squares   & \\textbf{  F-statistic:       } &     389.2   \\\\\n",
       "\\textbf{Date:}             & Wed, 04 Oct 2023 & \\textbf{  Prob (F-statistic):} &  1.14e-24   \\\\\n",
       "\\textbf{Time:}             &     16:38:03     & \\textbf{  Log-Likelihood:    } &   -63.422   \\\\\n",
       "\\textbf{No. Observations:} &          50      & \\textbf{  AIC:               } &     130.8   \\\\\n",
       "\\textbf{Df Residuals:}     &          48      & \\textbf{  BIC:               } &     134.7   \\\\\n",
       "\\textbf{Df Model:}         &           1      & \\textbf{                     } &             \\\\\n",
       "\\textbf{Covariance Type:}  &       HC1        & \\textbf{                     } &             \\\\\n",
       "\\bottomrule\n",
       "\\end{tabular}\n",
       "\\begin{tabular}{lcccccc}\n",
       "                   & \\textbf{coef} & \\textbf{std err} & \\textbf{z} & \\textbf{P$> |$z$|$} & \\textbf{[0.025} & \\textbf{0.975]}  \\\\\n",
       "\\midrule\n",
       "\\textbf{Intercept} &       1.0410  &        0.122     &     8.533  &         0.000        &        0.802    &        1.280     \\\\\n",
       "\\textbf{x}         &       2.1031  &        0.107     &    19.727  &         0.000        &        1.894    &        2.312     \\\\\n",
       "\\bottomrule\n",
       "\\end{tabular}\n",
       "\\begin{tabular}{lclc}\n",
       "\\textbf{Omnibus:}       &  3.643 & \\textbf{  Durbin-Watson:     } &    2.225  \\\\\n",
       "\\textbf{Prob(Omnibus):} &  0.162 & \\textbf{  Jarque-Bera (JB):  } &    2.563  \\\\\n",
       "\\textbf{Skew:}          & -0.464 & \\textbf{  Prob(JB):          } &    0.278  \\\\\n",
       "\\textbf{Kurtosis:}      &  3.608 & \\textbf{  Cond. No.          } &     1.28  \\\\\n",
       "\\bottomrule\n",
       "\\end{tabular}\n",
       "%\\caption{OLS Regression Results}\n",
       "\\end{center}\n",
       "\n",
       "Notes: \\newline\n",
       " [1] Standard Errors are heteroscedasticity robust (HC1)"
      ],
      "text/plain": [
       "<class 'statsmodels.iolib.summary.Summary'>\n",
       "\"\"\"\n",
       "                            OLS Regression Results                            \n",
       "==============================================================================\n",
       "Dep. Variable:                      y   R-squared:                       0.836\n",
       "Model:                            OLS   Adj. R-squared:                  0.833\n",
       "Method:                 Least Squares   F-statistic:                     389.2\n",
       "Date:                Wed, 04 Oct 2023   Prob (F-statistic):           1.14e-24\n",
       "Time:                        16:38:03   Log-Likelihood:                -63.422\n",
       "No. Observations:                  50   AIC:                             130.8\n",
       "Df Residuals:                      48   BIC:                             134.7\n",
       "Df Model:                           1                                         \n",
       "Covariance Type:                  HC1                                         \n",
       "==============================================================================\n",
       "                 coef    std err          z      P>|z|      [0.025      0.975]\n",
       "------------------------------------------------------------------------------\n",
       "Intercept      1.0410      0.122      8.533      0.000       0.802       1.280\n",
       "x              2.1031      0.107     19.727      0.000       1.894       2.312\n",
       "==============================================================================\n",
       "Omnibus:                        3.643   Durbin-Watson:                   2.225\n",
       "Prob(Omnibus):                  0.162   Jarque-Bera (JB):                2.563\n",
       "Skew:                          -0.464   Prob(JB):                        0.278\n",
       "Kurtosis:                       3.608   Cond. No.                         1.28\n",
       "==============================================================================\n",
       "\n",
       "Notes:\n",
       "[1] Standard Errors are heteroscedasticity robust (HC1)\n",
       "\"\"\""
      ]
     },
     "execution_count": 75,
     "metadata": {},
     "output_type": "execute_result"
    }
   ],
   "source": [
    "#------------------------------------------------------------------------------#\n",
    "# We use the subfunction \"ols()\" in the library \"smf\"\n",
    "#---- (i) The first argument is a string called \"formula\" with the format \n",
    "#-------- \"outcome ~ indepdent_vars\"\n",
    "#----(ii) the second argument is the dataset\n",
    "# The second line fits the model with standard errors \"cov\". In this case we \n",
    "# use \"robust\" standard errors (HC1)\n",
    "#-------------------------------------------------------------------------------#\n",
    "\n",
    "model   = smf.ols(formula = 'y ~  x',data = dataset)\n",
    "results = model.fit(cov_type = \"HC1\")\n",
    "\n",
    "# Can also run as one line\n",
    "# results = smf.ols(formula = 'y ~ x',data = dataset).fit(cov = \"HC1\")\n",
    "\n",
    "results.summary()\n"
   ]
  },
  {
   "attachments": {},
   "cell_type": "markdown",
   "metadata": {},
   "source": [
    "<font size = \"5\">\n",
    "\n",
    "Compute the estimated best fit line"
   ]
  },
  {
   "cell_type": "code",
   "execution_count": 76,
   "metadata": {},
   "outputs": [
    {
     "name": "stdout",
     "output_type": "stream",
     "text": [
      "Intercept    1.041022\n",
      "x            2.103076\n",
      "dtype: float64\n"
     ]
    }
   ],
   "source": [
    "# We will use \".params\" to get the attribute \"parameters from the results\"\n",
    "\n",
    "b_list = results.params\n",
    "print(b_list)\n",
    "\n",
    "# We can then compute the \"estimated\" best fit lines\n",
    "# by extracting the intercept and slop from \"b_list\"\n",
    "\n",
    "dataset[\"p_estimated\"] = b_list[0] + b_list[1]  * dataset[\"x\"]\n",
    "\n",
    "# Note: The estimators for \"b0\" and \"b1\" are close to \n",
    "# the values we used to generate the data\n"
   ]
  },
  {
   "attachments": {},
   "cell_type": "markdown",
   "metadata": {},
   "source": [
    "<font size = \"5\">\n",
    "\n",
    "Plot the best fit line"
   ]
  },
  {
   "cell_type": "code",
   "execution_count": 77,
   "metadata": {},
   "outputs": [
    {
     "data": {
      "image/png": "[encoded data removed]",
      "text/plain": [
       "<Figure size 640x480 with 1 Axes>"
      ]
     },
     "metadata": {},
     "output_type": "display_data"
    }
   ],
   "source": [
    "# Use scatter twice, with different \"y\" inputs\n",
    "# THe \"legend\" command creates a box on with the color labels\n",
    "\n",
    "plt.scatter(x = dataset[\"x\"],y = dataset[\"y\"])\n",
    "plt.plot(dataset[\"x\"],dataset[\"p_estimated\"], color = 'green')\n",
    "\n",
    "plt.legend(labels = [\"Data points\",\"Estimated Predicted Model\"])\n",
    "plt.show()\n"
   ]
  },
  {
   "attachments": {},
   "cell_type": "markdown",
   "metadata": {},
   "source": [
    "<font size = \"5\">\n",
    "\n",
    "Try it yourself!\n",
    "- How good is the estimated fit?\n",
    "- Create two overlapping lineplots\n",
    "- $(p \\text{ }$ vs $\\text{ } x)$ and $(p_{estimated} \\text{ }$ vs $\\text{ } x)$\n",
    "- Create a legend to label each plot"
   ]
  },
  {
   "cell_type": "code",
   "execution_count": 81,
   "metadata": {},
   "outputs": [
    {
     "data": {
      "text/plain": [
       "<matplotlib.legend.Legend at 0x1b96f39e2d0>"
      ]
     },
     "execution_count": 81,
     "metadata": {},
     "output_type": "execute_result"
    },
    {
     "data": {
      "image/png": "[encoded data removed]",
      "text/plain": [
       "<Figure size 640x480 with 1 Axes>"
      ]
     },
     "metadata": {},
     "output_type": "display_data"
    }
   ],
   "source": [
    "# Write your own code\n",
    "plt.plot(dataset[\"x\"],dataset[\"p\"], '-o', color = 'blue')\n",
    "plt.plot(dataset['x'],dataset[\"p_estimated\"], '-o', color = 'green')\n",
    "plt.legend(labels = [\"Predicted Model\", \"Estimated Predicted Model\"])"
   ]
  },
  {
   "attachments": {},
   "cell_type": "markdown",
   "metadata": {},
   "source": [
    "<font size = \"5\">\n",
    "\n",
    "Try it youself\n",
    "\n",
    "- Compute a column with the formula\n",
    "\n",
    "$\\quad$ ``` sample_error = y - p_estimated```\n",
    "\n",
    "- Create a lambda function <br>\n",
    "\n",
    "$\\quad$ ``` fn_positive_error = lambda error: error >= 0  ```\n",
    "\n",
    "- Compute a column for whether the error is positive <br>\n",
    "using ``` .apply()```\n",
    "\n"
   ]
  },
  {
   "cell_type": "code",
   "execution_count": 82,
   "metadata": {},
   "outputs": [],
   "source": [
    "# Write your own code\n"
   ]
  },
  {
   "attachments": {},
   "cell_type": "markdown",
   "metadata": {},
   "source": [
    "<font size = \"5\">\n",
    "\n",
    "Try it yourself\n",
    "\n",
    "- Compute a new column <br>\n",
    "\n",
    "```error_sqr = sample_error ** 2```\n",
    "\n",
    "- Calculate the mean of ```error_sqr```"
   ]
  },
  {
   "cell_type": "code",
   "execution_count": 83,
   "metadata": {},
   "outputs": [],
   "source": [
    "# Write your own code\n"
   ]
  }
 ],
 "metadata": {
  "kernelspec": {
   "display_name": "base",
   "language": "python",
   "name": "python3"
  },
  "language_info": {
   "codemirror_mode": {
    "name": "ipython",
    "version": 3
   },
   "file_extension": ".py",
   "mimetype": "text/x-python",
   "name": "python",
   "nbconvert_exporter": "python",
   "pygments_lexer": "ipython3",
   "version": "3.11.4"
  },
  "orig_nbformat": 4,
  "vscode": {
   "interpreter": {
    "hash": "45fc1f684f6f416f40889115beff3ddf69879b64cf4bfee48cb72a61e9d15d1a"
   }
  }
 },
 "nbformat": 4,
 "nbformat_minor": 2
}
